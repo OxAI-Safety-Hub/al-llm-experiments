{
 "cells": [
  {
   "cell_type": "markdown",
   "metadata": {},
   "source": [
    "# Blank notebook for experimenting with the codebase"
   ]
  },
  {
   "cell_type": "markdown",
   "metadata": {},
   "source": [
    "Import the library."
   ]
  },
  {
   "cell_type": "code",
   "execution_count": null,
   "metadata": {},
   "outputs": [],
   "source": [
    "# Add the parent directory to the path.\n",
    "# This is necessary for relative imports with Jupyter notebooks\n",
    "import sys\n",
    "sys.path.append(\"..\")\n",
    "\n",
    "from al_llm.experiment import Experiment"
   ]
  }
 ],
 "metadata": {
  "kernelspec": {
   "display_name": "Python 3.8.10 ('al-llm')",
   "language": "python",
   "name": "python3"
  },
  "language_info": {
   "codemirror_mode": {
    "name": "ipython",
    "version": 3
   },
   "file_extension": ".py",
   "mimetype": "text/x-python",
   "name": "python",
   "nbconvert_exporter": "python",
   "pygments_lexer": "ipython3",
   "version": "3.8.10"
  },
  "orig_nbformat": 4,
  "vscode": {
   "interpreter": {
    "hash": "453c4642eb0775e7d9bc4aece36addfd073e2b81f81b827b53d0d9f3c268d046"
   }
  }
 },
 "nbformat": 4,
 "nbformat_minor": 2
}
